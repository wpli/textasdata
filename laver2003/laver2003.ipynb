{
 "metadata": {
  "name": "",
  "signature": "sha256:dd70a791ec43f0a692ec67e1258138d9a9240c2d38f543e4e722063b3c9e4fd1"
 },
 "nbformat": 3,
 "nbformat_minor": 0,
 "worksheets": [
  {
   "cells": [
    {
     "cell_type": "code",
     "collapsed": false,
     "input": [
      "import numpy, pandas"
     ],
     "language": "python",
     "metadata": {},
     "outputs": [],
     "prompt_number": 1
    },
    {
     "cell_type": "code",
     "collapsed": false,
     "input": [
      "num_words = 37\n",
      "num_ref_docs = 5\n",
      "counts = [ 2, 3, 10, 22, 45, 78, 115, 146, 158, 146, 115, 78, 45, 22, 10, 3, 2 ]\n",
      "ref_starting_indices = [ 0, 5, 10, 15, 20 ]\n",
      "#print len( counts )\n",
      "words = range( num_words )\n",
      "\n",
      "refs = []\n",
      "\n",
      "for idx in ref_starting_indices:\n",
      "    tmp = [ 0 ] * num_words\n",
      "    tmp[idx:idx+len(counts)] = counts[:]\n",
      "    refs.append( tmp )\n",
      "\n",
      "\n",
      "    \n",
      "#print refs\n",
      "\n",
      "test_doc = [ 0 ] * num_words\n",
      "test_start_idx = 7\n",
      "test_doc[test_start_idx:test_start_idx+len(counts)] = counts[:]\n",
      "\n",
      "\n"
     ],
     "language": "python",
     "metadata": {},
     "outputs": [
      {
       "output_type": "stream",
       "stream": "stdout",
       "text": [
        "[0, 0, 0, 0, 0, 0, 0, 2, 3, 10, 22, 45, 78, 115, 146, 158, 146, 115, 78, 45, 22, 10, 3, 2, 0, 0, 0, 0, 0, 0, 0, 0, 0, 0, 0, 0, 0]\n"
       ]
      }
     ],
     "prompt_number": 35
    },
    {
     "cell_type": "code",
     "collapsed": false,
     "input": [
      "ref_docs = []\n",
      "for idx, w in enumerate( words ):\n",
      "    ref_docs.append( tuple( [w] + [i[idx] for i in refs ] ) )\n",
      "    \n",
      "ref_dataframe = pandas.DataFrame(data = ref_docs, columns=['word', 'r1', 'r2', 'r3', 'r4', 'r5'])\n",
      "\n"
     ],
     "language": "python",
     "metadata": {},
     "outputs": [],
     "prompt_number": 25
    },
    {
     "cell_type": "code",
     "collapsed": false,
     "input": [
      "ref_docs = tuple( [ [w] + [ i[idx] for i in refs ] ] )\n",
      "#normalized_dataframe"
     ],
     "language": "python",
     "metadata": {},
     "outputs": [],
     "prompt_number": 40
    },
    {
     "cell_type": "code",
     "collapsed": false,
     "input": [
      "ref_matrix = []\n",
      "for idx, w in enumerate( words ):\n",
      "    ref_matrix.append( [ i[idx] for i in refs ] )\n",
      "    \n",
      "ref_matrix = numpy.array( ref_matrix, dtype = numpy.float )\n",
      "\n",
      "row_sums = ref_matrix.sum(axis=1)\n",
      "norm_matrix = ref_matrix / row_sums[:, numpy.newaxis]\n",
      "scores = numpy.array( [ -1.5, -.75, 0, .75, 1.5 ])\n"
     ],
     "language": "python",
     "metadata": {},
     "outputs": [],
     "prompt_number": 52
    },
    {
     "cell_type": "code",
     "collapsed": false,
     "input": [
      "#for row in norm_matrix:\n",
      "#    print numpy.dot( row, scores )\n",
      "\n",
      "score_words = numpy.dot( norm_matrix, scores )   \n",
      "test_frequency = numpy.array( test_doc, dtype=numpy.float ) / numpy.sum( test_doc ) \n",
      "score_document = numpy.dot( score_words, test_frequency )\n",
      "\n",
      "variance_document = 0.0\n",
      "for idx, w in enumerate( score_words ):\n",
      "    variance_document += test_frequency[idx]*(w-score_document)**2\n",
      "    \n",
      "print score_document\n",
      "print variance_document\n",
      "print variance_document**.5"
     ],
     "language": "python",
     "metadata": {},
     "outputs": [
      {
       "output_type": "stream",
       "stream": "stdout",
       "text": [
        "-0.448059076618\n",
        "0.141554474978\n",
        "0.376237258891\n"
       ]
      }
     ],
     "prompt_number": 78
    },
    {
     "cell_type": "code",
     "collapsed": false,
     "input": [],
     "language": "python",
     "metadata": {},
     "outputs": []
    }
   ],
   "metadata": {}
  }
 ]
}